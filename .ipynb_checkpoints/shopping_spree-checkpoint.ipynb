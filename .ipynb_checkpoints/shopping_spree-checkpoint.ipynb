{
 "cells": [
  {
   "cell_type": "code",
   "execution_count": null,
   "id": "e1b1ec59",
   "metadata": {},
   "outputs": [],
   "source": [
    "print(\"\"\"Hello shoppers! Welcome to Syed's Supermarket.\n",
    "                Rules are very simple:\n",
    "                1) 'add' to add item to the cart\n",
    "                1: 'quit' to quit shopping and checkout\n",
    "                2: 'remove' to remove most recent added product product.\n",
    "                3: Have fun! :) \\n\n",
    "            \"\"\")\n",
    "\n",
    "class Cart():\n",
    "\n",
    "    def __init__(self, products):\n",
    "        self.products = products\n",
    "    \n",
    "    \n",
    "    # Method to show ShoppingBag\n",
    "    def showCart(self):\n",
    "        print(\"Checking out all of these products: \")\n",
    "        for item in self.products:\n",
    "            print(item, end=\", \")\n",
    "    \n",
    "    # Method to add to the ShoppingBag\n",
    "    def addToCart(self):\n",
    "        print(\"Let's begin your shopping spree!\")\n",
    "        while True:\n",
    "            product = input(\"What would you like to add? Type S to stop: \").lower()\n",
    "            self.products.append(product)\n",
    "            print(self.products)\n",
    "            if product == 's':\n",
    "                break\n",
    "\n",
    "    # Method to delete item from shopping bag\n",
    "    def remove_product(self):\n",
    "        del self.products[-1]\n",
    "        print(f\"This is what have been removed: {self.products[-1]}\")\n",
    "\n",
    "\n",
    "def run():\n",
    "    your_cart = Cart([])\n",
    "    while True:\n",
    "        response = input(\"\"\"Please keep in mind, if you remove item it'll be the last one on the list\\n\"\"\"\n",
    "        \"What do you want to do - Add/Remove or Quit? \")\n",
    "        if response.lower() == 'add':\n",
    "            your_cart.addToCart()\n",
    "        if response.lower() == 'remove':\n",
    "            your_cart.remove_product()\n",
    "        if response.lower() == 'quit':\n",
    "            print('Here is your bag...')\n",
    "            your_cart.showCart()\n",
    "            break\n",
    "print(run())"
   ]
  }
 ],
 "metadata": {
  "kernelspec": {
   "display_name": "Python 3 (ipykernel)",
   "language": "python",
   "name": "python3"
  },
  "language_info": {
   "codemirror_mode": {
    "name": "ipython",
    "version": 3
   },
   "file_extension": ".py",
   "mimetype": "text/x-python",
   "name": "python",
   "nbconvert_exporter": "python",
   "pygments_lexer": "ipython3",
   "version": "3.9.12"
  }
 },
 "nbformat": 4,
 "nbformat_minor": 5
}
