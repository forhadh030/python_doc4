{
 "cells": [
  {
   "cell_type": "code",
   "execution_count": 1,
   "id": "b8bf8d78",
   "metadata": {},
   "outputs": [
    {
     "name": "stdout",
     "output_type": "stream",
     "text": [
      "This is a car and it's a Ford Focus\n",
      "This Ford Explorer is better though!\n"
     ]
    }
   ],
   "source": [
    "# Create Parent Class called Car - That will be inherited by child Class called Ford\n",
    "# Add a method to the Car class that prints \"This is a car\"\n",
    "# Inside of the Child Class initialize the the inherited info using super()\n",
    "# Override the above method with the information of the Ford Car\n",
    "\n",
    "class Car():\n",
    "    def __init__(self, make, model, wheel=4):\n",
    "        self.make = make\n",
    "        self.model = model\n",
    "        self.wheel = wheel\n",
    "\n",
    "    def carType(self):\n",
    "        return f\"This is a car and it's a {self.make} {self.model}\"\n",
    "\n",
    "\n",
    "class Ford(Car):\n",
    "    def __init__(self, make, model, wheel, color='white'):\n",
    "        super().__init__(make, model, wheel)\n",
    "        self.color = color\n",
    "\n",
    "    def carType(self):\n",
    "        return f\"This {self.make} {self.model} is better though!\"\n",
    "    \n",
    "generic_car = Car('Ford', 'Focus')\n",
    "print(generic_car.carType())\n",
    "\n",
    "fordExplorer = Ford('Ford', 'Explorer', 4)\n",
    "print(fordExplorer.carType())"
   ]
  },
  {
   "cell_type": "code",
   "execution_count": null,
   "id": "112d5ef6",
   "metadata": {},
   "outputs": [],
   "source": []
  }
 ],
 "metadata": {
  "kernelspec": {
   "display_name": "Python 3 (ipykernel)",
   "language": "python",
   "name": "python3"
  },
  "language_info": {
   "codemirror_mode": {
    "name": "ipython",
    "version": 3
   },
   "file_extension": ".py",
   "mimetype": "text/x-python",
   "name": "python",
   "nbconvert_exporter": "python",
   "pygments_lexer": "ipython3",
   "version": "3.9.12"
  }
 },
 "nbformat": 4,
 "nbformat_minor": 5
}
